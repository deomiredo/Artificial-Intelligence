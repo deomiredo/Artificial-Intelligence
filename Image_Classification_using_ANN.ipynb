{
  "nbformat": 4,
  "nbformat_minor": 0,
  "metadata": {
    "kernelspec": {
      "display_name": "Python 3",
      "language": "python",
      "name": "python3"
    },
    "language_info": {
      "codemirror_mode": {
        "name": "ipython",
        "version": 3
      },
      "file_extension": ".py",
      "mimetype": "text/x-python",
      "name": "python",
      "nbconvert_exporter": "python",
      "pygments_lexer": "ipython3",
      "version": "3.8.5"
    },
    "colab": {
      "name": "Image Classification using ANN.ipynb",
      "provenance": [],
      "collapsed_sections": []
    }
  },
  "cells": [
    {
      "cell_type": "markdown",
      "metadata": {
        "id": "uGd3H3dc3sgX"
      },
      "source": [
        "<h3>1. Import module yang dibutuhkan</h3>"
      ]
    },
    {
      "cell_type": "code",
      "metadata": {
        "id": "Vyw8Macx3sgl"
      },
      "source": [
        "from sklearn.model_selection import train_test_split\n",
        "from sklearn.preprocessing import LabelEncoder\n",
        "from sklearn.metrics import classification_report\n",
        "from tensorflow.keras.models import Sequential\n",
        "from tensorflow.keras.layers import Flatten, Dense\n",
        "from tensorflow.keras.optimizers import SGD\n",
        "import numpy as np\n",
        "import cv2\n",
        "from google.colab.patches import cv2_imshow\n",
        "import glob\n",
        "import matplotlib.pyplot as plt"
      ],
      "execution_count": 9,
      "outputs": []
    },
    {
      "cell_type": "markdown",
      "metadata": {
        "id": "PJ3Qai-o3sgp"
      },
      "source": [
        "<h3>2. Load Dataset</h3>"
      ]
    },
    {
      "cell_type": "code",
      "metadata": {
        "id": "ozAoOJHn3sgq"
      },
      "source": [
        "imagePaths = 'dataset/Tumbuhan/'\n",
        "label_list = ['Seledri', 'Sirih']\n",
        "data = []\n",
        "labels = []"
      ],
      "execution_count": 10,
      "outputs": []
    },
    {
      "cell_type": "code",
      "metadata": {
        "id": "2A6wZMKL3sgs"
      },
      "source": [
        "for label in label_list:\n",
        "    for imagePath in glob.glob(imagePaths+label+'/*.jpg'):\n",
        "        #print(imagePath)\n",
        "        image = cv2.imread(imagePath)\n",
        "        image = cv2.resize(image, (32, 32))\n",
        "        data.append(image)\n",
        "        labels.append(label)"
      ],
      "execution_count": 11,
      "outputs": []
    },
    {
      "cell_type": "code",
      "metadata": {
        "colab": {
          "base_uri": "https://localhost:8080/"
        },
        "id": "bn--eYif3sgt",
        "outputId": "9e16f955-139d-4259-ef4d-fb18784fb8ca"
      },
      "source": [
        "np.array(data).shape"
      ],
      "execution_count": 12,
      "outputs": [
        {
          "output_type": "execute_result",
          "data": {
            "text/plain": [
              "(100, 32, 32, 3)"
            ]
          },
          "metadata": {},
          "execution_count": 12
        }
      ]
    },
    {
      "cell_type": "markdown",
      "metadata": {
        "id": "NxliHN5g3sgv"
      },
      "source": [
        "<h3>3. Data Preprocessing</h3>"
      ]
    },
    {
      "cell_type": "code",
      "metadata": {
        "id": "T4GeN3oP3sgx"
      },
      "source": [
        "# ubah type data dari list menjadi array\n",
        "# ubah nilai dari tiap pixel menjadi range [0..1]\n",
        "data = np.array(data, dtype='float') / 255.0\n",
        "labels = np.array(labels)"
      ],
      "execution_count": 13,
      "outputs": []
    },
    {
      "cell_type": "code",
      "metadata": {
        "colab": {
          "base_uri": "https://localhost:8080/"
        },
        "id": "GQWKJ3xI3sgz",
        "outputId": "36507f6b-6f78-4944-9ca2-8286697acfb7"
      },
      "source": [
        "print(labels)"
      ],
      "execution_count": 14,
      "outputs": [
        {
          "output_type": "stream",
          "name": "stdout",
          "text": [
            "['Seledri' 'Seledri' 'Seledri' 'Seledri' 'Seledri' 'Seledri' 'Seledri'\n",
            " 'Seledri' 'Seledri' 'Seledri' 'Seledri' 'Seledri' 'Seledri' 'Seledri'\n",
            " 'Seledri' 'Seledri' 'Seledri' 'Seledri' 'Seledri' 'Seledri' 'Seledri'\n",
            " 'Seledri' 'Seledri' 'Seledri' 'Seledri' 'Seledri' 'Seledri' 'Seledri'\n",
            " 'Seledri' 'Seledri' 'Seledri' 'Seledri' 'Seledri' 'Seledri' 'Seledri'\n",
            " 'Seledri' 'Seledri' 'Seledri' 'Seledri' 'Seledri' 'Seledri' 'Seledri'\n",
            " 'Seledri' 'Seledri' 'Seledri' 'Seledri' 'Seledri' 'Seledri' 'Seledri'\n",
            " 'Seledri' 'Sirih' 'Sirih' 'Sirih' 'Sirih' 'Sirih' 'Sirih' 'Sirih' 'Sirih'\n",
            " 'Sirih' 'Sirih' 'Sirih' 'Sirih' 'Sirih' 'Sirih' 'Sirih' 'Sirih' 'Sirih'\n",
            " 'Sirih' 'Sirih' 'Sirih' 'Sirih' 'Sirih' 'Sirih' 'Sirih' 'Sirih' 'Sirih'\n",
            " 'Sirih' 'Sirih' 'Sirih' 'Sirih' 'Sirih' 'Sirih' 'Sirih' 'Sirih' 'Sirih'\n",
            " 'Sirih' 'Sirih' 'Sirih' 'Sirih' 'Sirih' 'Sirih' 'Sirih' 'Sirih' 'Sirih'\n",
            " 'Sirih' 'Sirih' 'Sirih' 'Sirih' 'Sirih' 'Sirih']\n"
          ]
        }
      ]
    },
    {
      "cell_type": "code",
      "metadata": {
        "colab": {
          "base_uri": "https://localhost:8080/"
        },
        "id": "Z3hGW2LY3sg2",
        "outputId": "73eeac56-67ac-4772-9d50-a04072c127b6"
      },
      "source": [
        "# ubah nilai dari labels menjadi binary\n",
        "lb = LabelEncoder()\n",
        "labels = lb.fit_transform(labels)\n",
        "print(labels)"
      ],
      "execution_count": 15,
      "outputs": [
        {
          "output_type": "stream",
          "name": "stdout",
          "text": [
            "[0 0 0 0 0 0 0 0 0 0 0 0 0 0 0 0 0 0 0 0 0 0 0 0 0 0 0 0 0 0 0 0 0 0 0 0 0\n",
            " 0 0 0 0 0 0 0 0 0 0 0 0 0 1 1 1 1 1 1 1 1 1 1 1 1 1 1 1 1 1 1 1 1 1 1 1 1\n",
            " 1 1 1 1 1 1 1 1 1 1 1 1 1 1 1 1 1 1 1 1 1 1 1 1 1 1]\n"
          ]
        }
      ]
    },
    {
      "cell_type": "markdown",
      "metadata": {
        "id": "-Hm1esgm3sg4"
      },
      "source": [
        "<h3>4. Split Dataset</h3>"
      ]
    },
    {
      "cell_type": "code",
      "metadata": {
        "id": "Bu5p9r3C3sg5"
      },
      "source": [
        "x_train, x_test, y_train, y_test = train_test_split(data, labels, test_size=0.2, random_state=42)"
      ],
      "execution_count": 16,
      "outputs": []
    },
    {
      "cell_type": "code",
      "metadata": {
        "colab": {
          "base_uri": "https://localhost:8080/"
        },
        "id": "Tl4GFFqd3sg6",
        "outputId": "0a152f11-5704-4441-a3e1-1b9c4eb0df8c"
      },
      "source": [
        "print('Ukuran data train =', x_train.shape)\n",
        "print('Ukuran data test =', x_test.shape)"
      ],
      "execution_count": 17,
      "outputs": [
        {
          "output_type": "stream",
          "name": "stdout",
          "text": [
            "Ukuran data train = (80, 32, 32, 3)\n",
            "Ukuran data test = (20, 32, 32, 3)\n"
          ]
        }
      ]
    },
    {
      "cell_type": "markdown",
      "metadata": {
        "id": "c3s8gQa-3sg7"
      },
      "source": [
        "<h3>5. Build ANN Architecture</h3>"
      ]
    },
    {
      "cell_type": "code",
      "metadata": {
        "id": "XW1NTh3u3sg8"
      },
      "source": [
        "model = Sequential()\n",
        "model.add(Flatten(input_shape=(32,32,3)))\n",
        "model.add(Dense(1024, activation=\"relu\"))\n",
        "model.add(Dense(1024, activation=\"relu\"))\n",
        "model.add(Dense(1, activation=\"sigmoid\"))"
      ],
      "execution_count": 18,
      "outputs": []
    },
    {
      "cell_type": "code",
      "metadata": {
        "colab": {
          "base_uri": "https://localhost:8080/"
        },
        "id": "VrDuZQIu3sg9",
        "outputId": "1db8b9fc-8731-47d4-aaf3-a56b9b7ce359"
      },
      "source": [
        "model.summary()"
      ],
      "execution_count": 19,
      "outputs": [
        {
          "output_type": "stream",
          "name": "stdout",
          "text": [
            "Model: \"sequential\"\n",
            "_________________________________________________________________\n",
            "Layer (type)                 Output Shape              Param #   \n",
            "=================================================================\n",
            "flatten (Flatten)            (None, 3072)              0         \n",
            "_________________________________________________________________\n",
            "dense (Dense)                (None, 1024)              3146752   \n",
            "_________________________________________________________________\n",
            "dense_1 (Dense)              (None, 1024)              1049600   \n",
            "_________________________________________________________________\n",
            "dense_2 (Dense)              (None, 1)                 1025      \n",
            "=================================================================\n",
            "Total params: 4,197,377\n",
            "Trainable params: 4,197,377\n",
            "Non-trainable params: 0\n",
            "_________________________________________________________________\n"
          ]
        }
      ]
    },
    {
      "cell_type": "code",
      "metadata": {
        "id": "FQi1yi2G3sg-"
      },
      "source": [
        "# tentukan hyperparameter\n",
        "lr = 0.01\n",
        "max_epochs = 100\n",
        "opt_funct = SGD(learning_rate=lr)"
      ],
      "execution_count": 20,
      "outputs": []
    },
    {
      "cell_type": "code",
      "metadata": {
        "id": "zecqaTvv3sg_"
      },
      "source": [
        "# compile arsitektur yang telah dibuat\n",
        "model.compile(loss = 'binary_crossentropy', \n",
        "              optimizer = opt_funct, \n",
        "              metrics = ['accuracy'])"
      ],
      "execution_count": 21,
      "outputs": []
    },
    {
      "cell_type": "markdown",
      "metadata": {
        "id": "YobE8uZa3shB"
      },
      "source": [
        "<h3>6. Train Model</h3>"
      ]
    },
    {
      "cell_type": "code",
      "metadata": {
        "colab": {
          "base_uri": "https://localhost:8080/"
        },
        "id": "BjSYF9lM3shC",
        "outputId": "6010fe54-2077-40df-ce09-47ffdb1843e6"
      },
      "source": [
        "H = model.fit(x_train, y_train, validation_data=(x_test, y_test), \n",
        "          epochs=max_epochs, batch_size=32)"
      ],
      "execution_count": 22,
      "outputs": [
        {
          "output_type": "stream",
          "name": "stdout",
          "text": [
            "Epoch 1/100\n",
            "3/3 [==============================] - 1s 150ms/step - loss: 1.3601 - accuracy: 0.4250 - val_loss: 1.7468 - val_accuracy: 0.4000\n",
            "Epoch 2/100\n",
            "3/3 [==============================] - 0s 50ms/step - loss: 0.9057 - accuracy: 0.8000 - val_loss: 0.6006 - val_accuracy: 0.6500\n",
            "Epoch 3/100\n",
            "3/3 [==============================] - 0s 43ms/step - loss: 0.5812 - accuracy: 0.6625 - val_loss: 0.5353 - val_accuracy: 0.6000\n",
            "Epoch 4/100\n",
            "3/3 [==============================] - 0s 40ms/step - loss: 0.5200 - accuracy: 0.6750 - val_loss: 0.5617 - val_accuracy: 0.5500\n",
            "Epoch 5/100\n",
            "3/3 [==============================] - 0s 40ms/step - loss: 0.4537 - accuracy: 0.9250 - val_loss: 0.5640 - val_accuracy: 0.5500\n",
            "Epoch 6/100\n",
            "3/3 [==============================] - 0s 33ms/step - loss: 0.4612 - accuracy: 0.7750 - val_loss: 0.6050 - val_accuracy: 0.6000\n",
            "Epoch 7/100\n",
            "3/3 [==============================] - 0s 38ms/step - loss: 0.8396 - accuracy: 0.4250 - val_loss: 1.2998 - val_accuracy: 0.4000\n",
            "Epoch 8/100\n",
            "3/3 [==============================] - 0s 36ms/step - loss: 0.8455 - accuracy: 0.5000 - val_loss: 0.4402 - val_accuracy: 0.9500\n",
            "Epoch 9/100\n",
            "3/3 [==============================] - 0s 51ms/step - loss: 0.4181 - accuracy: 0.9500 - val_loss: 0.3941 - val_accuracy: 0.7500\n",
            "Epoch 10/100\n",
            "3/3 [==============================] - 0s 107ms/step - loss: 0.3709 - accuracy: 0.9125 - val_loss: 0.3329 - val_accuracy: 1.0000\n",
            "Epoch 11/100\n",
            "3/3 [==============================] - 0s 32ms/step - loss: 0.3151 - accuracy: 0.9875 - val_loss: 0.4541 - val_accuracy: 0.6500\n",
            "Epoch 12/100\n",
            "3/3 [==============================] - 0s 34ms/step - loss: 0.3175 - accuracy: 0.9750 - val_loss: 0.3243 - val_accuracy: 0.9000\n",
            "Epoch 13/100\n",
            "3/3 [==============================] - 0s 34ms/step - loss: 0.3124 - accuracy: 0.9375 - val_loss: 0.3115 - val_accuracy: 1.0000\n",
            "Epoch 14/100\n",
            "3/3 [==============================] - 0s 33ms/step - loss: 0.3132 - accuracy: 0.9125 - val_loss: 0.3198 - val_accuracy: 1.0000\n",
            "Epoch 15/100\n",
            "3/3 [==============================] - 0s 35ms/step - loss: 0.3372 - accuracy: 0.9125 - val_loss: 0.2577 - val_accuracy: 1.0000\n",
            "Epoch 16/100\n",
            "3/3 [==============================] - 0s 34ms/step - loss: 0.2847 - accuracy: 0.9500 - val_loss: 0.2494 - val_accuracy: 1.0000\n",
            "Epoch 17/100\n",
            "3/3 [==============================] - 0s 36ms/step - loss: 0.4437 - accuracy: 0.8125 - val_loss: 1.1290 - val_accuracy: 0.6000\n",
            "Epoch 18/100\n",
            "3/3 [==============================] - 0s 39ms/step - loss: 0.6619 - accuracy: 0.8125 - val_loss: 0.2158 - val_accuracy: 1.0000\n",
            "Epoch 19/100\n",
            "3/3 [==============================] - 0s 35ms/step - loss: 0.2208 - accuracy: 1.0000 - val_loss: 0.2044 - val_accuracy: 1.0000\n",
            "Epoch 20/100\n",
            "3/3 [==============================] - 0s 34ms/step - loss: 0.2020 - accuracy: 0.9875 - val_loss: 0.2006 - val_accuracy: 1.0000\n",
            "Epoch 21/100\n",
            "3/3 [==============================] - 0s 35ms/step - loss: 0.1892 - accuracy: 0.9875 - val_loss: 0.2169 - val_accuracy: 1.0000\n",
            "Epoch 22/100\n",
            "3/3 [==============================] - 0s 34ms/step - loss: 0.3806 - accuracy: 0.8375 - val_loss: 0.5354 - val_accuracy: 0.6000\n",
            "Epoch 23/100\n",
            "3/3 [==============================] - 0s 33ms/step - loss: 0.3299 - accuracy: 0.8500 - val_loss: 0.1926 - val_accuracy: 1.0000\n",
            "Epoch 24/100\n",
            "3/3 [==============================] - 0s 39ms/step - loss: 0.2127 - accuracy: 1.0000 - val_loss: 0.1452 - val_accuracy: 1.0000\n",
            "Epoch 25/100\n",
            "3/3 [==============================] - 0s 33ms/step - loss: 0.1516 - accuracy: 1.0000 - val_loss: 0.1871 - val_accuracy: 1.0000\n",
            "Epoch 26/100\n",
            "3/3 [==============================] - 0s 35ms/step - loss: 0.1659 - accuracy: 0.9500 - val_loss: 0.1315 - val_accuracy: 1.0000\n",
            "Epoch 27/100\n",
            "3/3 [==============================] - 0s 42ms/step - loss: 0.1764 - accuracy: 0.9625 - val_loss: 0.1197 - val_accuracy: 1.0000\n",
            "Epoch 28/100\n",
            "3/3 [==============================] - 0s 49ms/step - loss: 0.1302 - accuracy: 1.0000 - val_loss: 0.1283 - val_accuracy: 1.0000\n",
            "Epoch 29/100\n",
            "3/3 [==============================] - 0s 48ms/step - loss: 0.1231 - accuracy: 1.0000 - val_loss: 0.1099 - val_accuracy: 1.0000\n",
            "Epoch 30/100\n",
            "3/3 [==============================] - 0s 47ms/step - loss: 0.1217 - accuracy: 1.0000 - val_loss: 0.1216 - val_accuracy: 1.0000\n",
            "Epoch 31/100\n",
            "3/3 [==============================] - 0s 47ms/step - loss: 0.1225 - accuracy: 0.9875 - val_loss: 0.1001 - val_accuracy: 1.0000\n",
            "Epoch 32/100\n",
            "3/3 [==============================] - 0s 43ms/step - loss: 0.1077 - accuracy: 1.0000 - val_loss: 0.1094 - val_accuracy: 1.0000\n",
            "Epoch 33/100\n",
            "3/3 [==============================] - 0s 52ms/step - loss: 0.1070 - accuracy: 1.0000 - val_loss: 0.1157 - val_accuracy: 1.0000\n",
            "Epoch 34/100\n",
            "3/3 [==============================] - 0s 52ms/step - loss: 0.1074 - accuracy: 1.0000 - val_loss: 0.0921 - val_accuracy: 1.0000\n",
            "Epoch 35/100\n",
            "3/3 [==============================] - 0s 46ms/step - loss: 0.0964 - accuracy: 1.0000 - val_loss: 0.0806 - val_accuracy: 1.0000\n",
            "Epoch 36/100\n",
            "3/3 [==============================] - 0s 43ms/step - loss: 0.0946 - accuracy: 1.0000 - val_loss: 0.0979 - val_accuracy: 1.0000\n",
            "Epoch 37/100\n",
            "3/3 [==============================] - 0s 48ms/step - loss: 0.1054 - accuracy: 0.9875 - val_loss: 0.0754 - val_accuracy: 1.0000\n",
            "Epoch 38/100\n",
            "3/3 [==============================] - 0s 50ms/step - loss: 0.1007 - accuracy: 0.9875 - val_loss: 0.0749 - val_accuracy: 1.0000\n",
            "Epoch 39/100\n",
            "3/3 [==============================] - 0s 44ms/step - loss: 0.0831 - accuracy: 1.0000 - val_loss: 0.0777 - val_accuracy: 1.0000\n",
            "Epoch 40/100\n",
            "3/3 [==============================] - 0s 46ms/step - loss: 0.0818 - accuracy: 1.0000 - val_loss: 0.0750 - val_accuracy: 1.0000\n",
            "Epoch 41/100\n",
            "3/3 [==============================] - 0s 54ms/step - loss: 0.0796 - accuracy: 1.0000 - val_loss: 0.0661 - val_accuracy: 1.0000\n",
            "Epoch 42/100\n",
            "3/3 [==============================] - 0s 47ms/step - loss: 0.0750 - accuracy: 1.0000 - val_loss: 0.0593 - val_accuracy: 1.0000\n",
            "Epoch 43/100\n",
            "3/3 [==============================] - 0s 38ms/step - loss: 0.0756 - accuracy: 1.0000 - val_loss: 0.0750 - val_accuracy: 1.0000\n",
            "Epoch 44/100\n",
            "3/3 [==============================] - 0s 35ms/step - loss: 0.0859 - accuracy: 0.9875 - val_loss: 0.1191 - val_accuracy: 1.0000\n",
            "Epoch 45/100\n",
            "3/3 [==============================] - 0s 35ms/step - loss: 0.1249 - accuracy: 0.9875 - val_loss: 0.0551 - val_accuracy: 1.0000\n",
            "Epoch 46/100\n",
            "3/3 [==============================] - 0s 40ms/step - loss: 0.0704 - accuracy: 1.0000 - val_loss: 0.0503 - val_accuracy: 1.0000\n",
            "Epoch 47/100\n",
            "3/3 [==============================] - 0s 39ms/step - loss: 0.0734 - accuracy: 1.0000 - val_loss: 0.0486 - val_accuracy: 1.0000\n",
            "Epoch 48/100\n",
            "3/3 [==============================] - 0s 36ms/step - loss: 0.0742 - accuracy: 0.9875 - val_loss: 0.0464 - val_accuracy: 1.0000\n",
            "Epoch 49/100\n",
            "3/3 [==============================] - 0s 34ms/step - loss: 0.0593 - accuracy: 1.0000 - val_loss: 0.0450 - val_accuracy: 1.0000\n",
            "Epoch 50/100\n",
            "3/3 [==============================] - 0s 37ms/step - loss: 0.0610 - accuracy: 1.0000 - val_loss: 0.0604 - val_accuracy: 1.0000\n",
            "Epoch 51/100\n",
            "3/3 [==============================] - 0s 38ms/step - loss: 0.1013 - accuracy: 0.9750 - val_loss: 0.0421 - val_accuracy: 1.0000\n",
            "Epoch 52/100\n",
            "3/3 [==============================] - 0s 36ms/step - loss: 0.0539 - accuracy: 1.0000 - val_loss: 0.0409 - val_accuracy: 1.0000\n",
            "Epoch 53/100\n",
            "3/3 [==============================] - 0s 36ms/step - loss: 0.0596 - accuracy: 1.0000 - val_loss: 0.0463 - val_accuracy: 1.0000\n",
            "Epoch 54/100\n",
            "3/3 [==============================] - 0s 35ms/step - loss: 0.0542 - accuracy: 1.0000 - val_loss: 0.0725 - val_accuracy: 1.0000\n",
            "Epoch 55/100\n",
            "3/3 [==============================] - 0s 35ms/step - loss: 0.0551 - accuracy: 1.0000 - val_loss: 0.0384 - val_accuracy: 1.0000\n",
            "Epoch 56/100\n",
            "3/3 [==============================] - 0s 34ms/step - loss: 0.0486 - accuracy: 1.0000 - val_loss: 0.0356 - val_accuracy: 1.0000\n",
            "Epoch 57/100\n",
            "3/3 [==============================] - 0s 39ms/step - loss: 0.0534 - accuracy: 1.0000 - val_loss: 0.0401 - val_accuracy: 1.0000\n",
            "Epoch 58/100\n",
            "3/3 [==============================] - 0s 38ms/step - loss: 0.0483 - accuracy: 1.0000 - val_loss: 0.0331 - val_accuracy: 1.0000\n",
            "Epoch 59/100\n",
            "3/3 [==============================] - 0s 34ms/step - loss: 0.0457 - accuracy: 1.0000 - val_loss: 0.0422 - val_accuracy: 1.0000\n",
            "Epoch 60/100\n",
            "3/3 [==============================] - 0s 42ms/step - loss: 0.0464 - accuracy: 1.0000 - val_loss: 0.0312 - val_accuracy: 1.0000\n",
            "Epoch 61/100\n",
            "3/3 [==============================] - 0s 46ms/step - loss: 0.0427 - accuracy: 1.0000 - val_loss: 0.0304 - val_accuracy: 1.0000\n",
            "Epoch 62/100\n",
            "3/3 [==============================] - 0s 50ms/step - loss: 0.0516 - accuracy: 1.0000 - val_loss: 0.0366 - val_accuracy: 1.0000\n",
            "Epoch 63/100\n",
            "3/3 [==============================] - 0s 48ms/step - loss: 0.0429 - accuracy: 1.0000 - val_loss: 0.0286 - val_accuracy: 1.0000\n",
            "Epoch 64/100\n",
            "3/3 [==============================] - 0s 46ms/step - loss: 0.0407 - accuracy: 1.0000 - val_loss: 0.0348 - val_accuracy: 1.0000\n",
            "Epoch 65/100\n",
            "3/3 [==============================] - 0s 48ms/step - loss: 0.0414 - accuracy: 1.0000 - val_loss: 0.0272 - val_accuracy: 1.0000\n",
            "Epoch 66/100\n",
            "3/3 [==============================] - 0s 46ms/step - loss: 0.0430 - accuracy: 1.0000 - val_loss: 0.0262 - val_accuracy: 1.0000\n",
            "Epoch 67/100\n",
            "3/3 [==============================] - 0s 48ms/step - loss: 0.0384 - accuracy: 1.0000 - val_loss: 0.0377 - val_accuracy: 1.0000\n",
            "Epoch 68/100\n",
            "3/3 [==============================] - 0s 39ms/step - loss: 0.0381 - accuracy: 1.0000 - val_loss: 0.0351 - val_accuracy: 1.0000\n",
            "Epoch 69/100\n",
            "3/3 [==============================] - 0s 35ms/step - loss: 0.0390 - accuracy: 1.0000 - val_loss: 0.0243 - val_accuracy: 1.0000\n",
            "Epoch 70/100\n",
            "3/3 [==============================] - 0s 35ms/step - loss: 0.0361 - accuracy: 1.0000 - val_loss: 0.0237 - val_accuracy: 1.0000\n",
            "Epoch 71/100\n",
            "3/3 [==============================] - 0s 39ms/step - loss: 0.0349 - accuracy: 1.0000 - val_loss: 0.0237 - val_accuracy: 1.0000\n",
            "Epoch 72/100\n",
            "3/3 [==============================] - 0s 34ms/step - loss: 0.0340 - accuracy: 1.0000 - val_loss: 0.0264 - val_accuracy: 1.0000\n",
            "Epoch 73/100\n",
            "3/3 [==============================] - 0s 44ms/step - loss: 0.0346 - accuracy: 1.0000 - val_loss: 0.0223 - val_accuracy: 1.0000\n",
            "Epoch 74/100\n",
            "3/3 [==============================] - 0s 40ms/step - loss: 0.0340 - accuracy: 1.0000 - val_loss: 0.0220 - val_accuracy: 1.0000\n",
            "Epoch 75/100\n",
            "3/3 [==============================] - 0s 36ms/step - loss: 0.0319 - accuracy: 1.0000 - val_loss: 0.0211 - val_accuracy: 1.0000\n",
            "Epoch 76/100\n",
            "3/3 [==============================] - 0s 45ms/step - loss: 0.0313 - accuracy: 1.0000 - val_loss: 0.0261 - val_accuracy: 1.0000\n",
            "Epoch 77/100\n",
            "3/3 [==============================] - 0s 40ms/step - loss: 0.0378 - accuracy: 1.0000 - val_loss: 0.0225 - val_accuracy: 1.0000\n",
            "Epoch 78/100\n",
            "3/3 [==============================] - 0s 36ms/step - loss: 0.0335 - accuracy: 1.0000 - val_loss: 0.0204 - val_accuracy: 1.0000\n",
            "Epoch 79/100\n",
            "3/3 [==============================] - 0s 35ms/step - loss: 0.0328 - accuracy: 1.0000 - val_loss: 0.0193 - val_accuracy: 1.0000\n",
            "Epoch 80/100\n",
            "3/3 [==============================] - 0s 34ms/step - loss: 0.0297 - accuracy: 1.0000 - val_loss: 0.0209 - val_accuracy: 1.0000\n",
            "Epoch 81/100\n",
            "3/3 [==============================] - 0s 36ms/step - loss: 0.0382 - accuracy: 1.0000 - val_loss: 0.0188 - val_accuracy: 1.0000\n",
            "Epoch 82/100\n",
            "3/3 [==============================] - 0s 36ms/step - loss: 0.0310 - accuracy: 1.0000 - val_loss: 0.0240 - val_accuracy: 1.0000\n",
            "Epoch 83/100\n",
            "3/3 [==============================] - 0s 35ms/step - loss: 0.0314 - accuracy: 1.0000 - val_loss: 0.0175 - val_accuracy: 1.0000\n",
            "Epoch 84/100\n",
            "3/3 [==============================] - 0s 39ms/step - loss: 0.0275 - accuracy: 1.0000 - val_loss: 0.0203 - val_accuracy: 1.0000\n",
            "Epoch 85/100\n",
            "3/3 [==============================] - 0s 33ms/step - loss: 0.0286 - accuracy: 1.0000 - val_loss: 0.0168 - val_accuracy: 1.0000\n",
            "Epoch 86/100\n",
            "3/3 [==============================] - 0s 35ms/step - loss: 0.0264 - accuracy: 1.0000 - val_loss: 0.0172 - val_accuracy: 1.0000\n",
            "Epoch 87/100\n",
            "3/3 [==============================] - 0s 33ms/step - loss: 0.0258 - accuracy: 1.0000 - val_loss: 0.0168 - val_accuracy: 1.0000\n",
            "Epoch 88/100\n",
            "3/3 [==============================] - 0s 33ms/step - loss: 0.0262 - accuracy: 1.0000 - val_loss: 0.0158 - val_accuracy: 1.0000\n",
            "Epoch 89/100\n",
            "3/3 [==============================] - 0s 33ms/step - loss: 0.0249 - accuracy: 1.0000 - val_loss: 0.0156 - val_accuracy: 1.0000\n",
            "Epoch 90/100\n",
            "3/3 [==============================] - 0s 35ms/step - loss: 0.0248 - accuracy: 1.0000 - val_loss: 0.0153 - val_accuracy: 1.0000\n",
            "Epoch 91/100\n",
            "3/3 [==============================] - 0s 41ms/step - loss: 0.0263 - accuracy: 1.0000 - val_loss: 0.0148 - val_accuracy: 1.0000\n",
            "Epoch 92/100\n",
            "3/3 [==============================] - 0s 33ms/step - loss: 0.0238 - accuracy: 1.0000 - val_loss: 0.0147 - val_accuracy: 1.0000\n",
            "Epoch 93/100\n",
            "3/3 [==============================] - 0s 35ms/step - loss: 0.0235 - accuracy: 1.0000 - val_loss: 0.0143 - val_accuracy: 1.0000\n",
            "Epoch 94/100\n",
            "3/3 [==============================] - 0s 36ms/step - loss: 0.0231 - accuracy: 1.0000 - val_loss: 0.0140 - val_accuracy: 1.0000\n",
            "Epoch 95/100\n",
            "3/3 [==============================] - 0s 40ms/step - loss: 0.0232 - accuracy: 1.0000 - val_loss: 0.0138 - val_accuracy: 1.0000\n",
            "Epoch 96/100\n",
            "3/3 [==============================] - 0s 34ms/step - loss: 0.0239 - accuracy: 1.0000 - val_loss: 0.0135 - val_accuracy: 1.0000\n",
            "Epoch 97/100\n",
            "3/3 [==============================] - 0s 42ms/step - loss: 0.0229 - accuracy: 1.0000 - val_loss: 0.0159 - val_accuracy: 1.0000\n",
            "Epoch 98/100\n",
            "3/3 [==============================] - 0s 40ms/step - loss: 0.0238 - accuracy: 1.0000 - val_loss: 0.0133 - val_accuracy: 1.0000\n",
            "Epoch 99/100\n",
            "3/3 [==============================] - 0s 34ms/step - loss: 0.0228 - accuracy: 1.0000 - val_loss: 0.0145 - val_accuracy: 1.0000\n",
            "Epoch 100/100\n",
            "3/3 [==============================] - 0s 37ms/step - loss: 0.0229 - accuracy: 1.0000 - val_loss: 0.0128 - val_accuracy: 1.0000\n"
          ]
        }
      ]
    },
    {
      "cell_type": "code",
      "metadata": {
        "colab": {
          "base_uri": "https://localhost:8080/",
          "height": 282
        },
        "id": "gm-6l3TQ3shE",
        "outputId": "5835b96b-584b-4f7f-8ffd-dcd7528bc66d"
      },
      "source": [
        "N = np.arange(0, max_epochs)\n",
        "plt.style.use(\"ggplot\")\n",
        "plt.figure()\n",
        "plt.plot(N, H.history[\"loss\"], label=\"train_loss\")\n",
        "plt.plot(N, H.history[\"val_loss\"], label=\"val_loss\")\n",
        "#plt.plot(N, H.history[\"accuracy\"], label=\"train_acc\")\n",
        "#plt.plot(N, H.history[\"val_accuracy\"], label=\"val_acc\")\n",
        "plt.xlabel(\"Epoch #\")\n",
        "plt.legend()\n",
        "plt.show()"
      ],
      "execution_count": 23,
      "outputs": [
        {
          "output_type": "display_data",
          "data": {
            "image/png": "[encoded data removed]",
            "text/plain": [
              "<Figure size 432x288 with 1 Axes>"
            ]
          },
          "metadata": {}
        }
      ]
    },
    {
      "cell_type": "markdown",
      "metadata": {
        "id": "787vswhg3shF"
      },
      "source": [
        "<h3>7. Evaluate the Model</h3>"
      ]
    },
    {
      "cell_type": "code",
      "metadata": {
        "colab": {
          "base_uri": "https://localhost:8080/"
        },
        "id": "XhR7cfQJ3shG",
        "outputId": "0a1c7b57-98d3-4d66-dfea-1748b9437afa"
      },
      "source": [
        "# menghitung nilai akurasi model terhadap data test\n",
        "predictions = model.predict(x_test, batch_size=32)\n",
        "target = (predictions > 0.5).astype(np.int)\n",
        "print(classification_report(y_test, target, target_names=label_list))"
      ],
      "execution_count": 24,
      "outputs": [
        {
          "output_type": "stream",
          "name": "stdout",
          "text": [
            "              precision    recall  f1-score   support\n",
            "\n",
            "     Seledri       1.00      1.00      1.00        12\n",
            "       Sirih       1.00      1.00      1.00         8\n",
            "\n",
            "    accuracy                           1.00        20\n",
            "   macro avg       1.00      1.00      1.00        20\n",
            "weighted avg       1.00      1.00      1.00        20\n",
            "\n"
          ]
        }
      ]
    },
    {
      "cell_type": "code",
      "metadata": {
        "colab": {
          "base_uri": "https://localhost:8080/"
        },
        "id": "1oLcHRYZ3shH",
        "outputId": "421027fb-6720-46d1-9438-a0d52091c169"
      },
      "source": [
        "# uji model menggunakan image lain\n",
        "queryPath = imagePaths+'download.jpg'\n",
        "query = cv2.imread(queryPath)\n",
        "output = query.copy()\n",
        "query = cv2.resize(query, (32, 32))\n",
        "q = []\n",
        "q.append(query)\n",
        "q = np.array(q, dtype='float') / 255.0\n",
        "\n",
        "q_pred = model.predict(q)\n",
        "print(q_pred)"
      ],
      "execution_count": 34,
      "outputs": [
        {
          "output_type": "stream",
          "name": "stdout",
          "text": [
            "[[0.34959394]]\n"
          ]
        }
      ]
    },
    {
      "cell_type": "code",
      "metadata": {
        "colab": {
          "base_uri": "https://localhost:8080/",
          "height": 251
        },
        "id": "BMvxEida3shK",
        "outputId": "8bf85507-663e-4811-efd7-bdf53b57f6b8"
      },
      "source": [
        "if q_pred<=0.5 :\n",
        "    target = \"Seledri\"\n",
        "else :\n",
        "    target = \"Sirih\"\n",
        "text = \"{}\".format(target)\n",
        "cv2.putText(output, text, (10, 30), cv2.FONT_HERSHEY_SIMPLEX, 0.7, (0, 0, 255), 2)\n",
        " \n",
        "# menampilkan output image\n",
        "cv2_imshow(output)\n"
      ],
      "execution_count": 35,
      "outputs": [
        {
          "output_type": "display_data",
          "data": {
            "image/png": "[encoded data removed]",
            "text/plain": [
              "<PIL.Image.Image image mode=RGB size=215x234 at 0x7F287643C650>"
            ]
          },
          "metadata": {}
        }
      ]
    },
    {
      "cell_type": "code",
      "metadata": {
        "id": "o_2zfK-y3shL"
      },
      "source": [
        ""
      ],
      "execution_count": null,
      "outputs": []
    }
  ]
}